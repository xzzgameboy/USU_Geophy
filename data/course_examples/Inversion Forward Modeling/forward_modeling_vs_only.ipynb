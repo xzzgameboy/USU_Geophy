{
 "cells": [
  {
   "cell_type": "markdown",
   "id": "9812bf3d",
   "metadata": {},
   "source": [
    "# Forward Modeling\n",
    "\n",
    "> Joseph P. Vantassel, [jpvantassel.com](https://www.jpvantassel.com/)\n",
    "\n",
    "This notebook allows the user to practice forward modeling. _Forward modeling_ is the process of interactively selecting a ground model in order to fit the theoretical dispersion data associated with the assumed ground model to the experimental dispersion data. In other words, forward modeling is a method for inverting experimental dispersion data where you (the analyst) acts as the inversion engine. While forward modeling was quite common in the past, over the last two decades more-rigorous search algorithms have replaced the use of forward modeling. Nonetheless, the process of inverting an experimental dispersion data via forward modeling remains a valuable exercise to provide intuition regarding the relationship between an assumed ground model and its theoretical dispersion curve."
   ]
  },
  {
   "cell_type": "code",
   "execution_count": null,
   "id": "18069637",
   "metadata": {},
   "outputs": [],
   "source": [
    "import numpy as np\n",
    "import matplotlib.pyplot as plt\n",
    "from disba import PhaseDispersion\n",
    "import pandas as pd\n",
    "import swprepost"
   ]
  },
  {
   "cell_type": "markdown",
   "id": "e4101d82-8ebf-44cb-a6d6-3f369cf2d8ac",
   "metadata": {},
   "source": [
    "## Cases\n",
    "\n",
    "This notebook includes several different sets of experimental dispersion data with increasing difficulty:\n",
    "\n",
    "- Case 1: Synthetic normally dispersive data with provided solution.\n",
    "- Case 2: Experimental normally dispersive data without a provided solution. (Site Name: CUSSO)\n",
    "- Case 3: Experimental normally dispersive data without a provided solution. (Site Name: WGHS)\n",
    "- Case 4: Synthetic inversely dispersive data with a provided solution.\n",
    "- Case 5: Experimental inversely dispersive data without a provided solution. (Site Name: A2)"
   ]
  },
  {
   "cell_type": "code",
   "execution_count": null,
   "id": "13f07a6a-9f49-4cd7-8b1b-4a352c7e26fe",
   "metadata": {},
   "outputs": [],
   "source": [
    "# select your case\n",
    "case = 1\n",
    "\n",
    "available_cases = [1, 2, 3, 4, 5]\n",
    "if case not in available_cases:\n",
    "    raise ValueError(f\"The selected case '{case}' is not available, select from {available_cases}\")\n",
    "else:\n",
    "    print(f\"You selected Case {case}.\")"
   ]
  },
  {
   "cell_type": "markdown",
   "id": "bd6b776c",
   "metadata": {},
   "source": [
    "## Load and Plot the Experimental Dispersion Data"
   ]
  },
  {
   "cell_type": "code",
   "execution_count": null,
   "id": "f0c8bd1a",
   "metadata": {},
   "outputs": [],
   "source": [
    "# load target data\n",
    "target = swprepost.ModalTarget.from_csv(f\"case_{case}_dispersion.csv\")\n",
    "\n",
    "# plot target data\n",
    "fig, ax = target.plot(figkwargs=dict(figsize=(4,3)))\n",
    "ax.margins(0.2)\n",
    "ylim = ax.get_ylim()\n",
    "ax.set_ylim(0, (max(ylim)//100 + 1) * 100)\n",
    "ylim = ax.get_ylim()\n",
    "ax.set_yticks(np.arange(0, max(ylim)+25, 25), minor=True)\n",
    "ax.grid(axis=\"both\", which=\"major\", color=\"black\", lw=0.2)\n",
    "ax.grid(axis=\"both\", which=\"minor\", color=\"black\", lw=0.1)\n",
    "ax.set_xlim(1, 200)\n",
    "frequency_limits = ax.get_xlim()\n",
    "phase_velocity_limits = ax.get_ylim()\n",
    "plt.show()"
   ]
  },
  {
   "cell_type": "markdown",
   "id": "7fd39f24",
   "metadata": {},
   "source": [
    "## Load and Plot the Selected Ground Model to Forward Model"
   ]
  },
  {
   "cell_type": "code",
   "execution_count": null,
   "id": "78935dde",
   "metadata": {},
   "outputs": [],
   "source": [
    "# read model from .csv\n",
    "df = pd.read_csv(\"model_input.csv\").dropna()\n",
    "\n",
    "gm = swprepost.GroundModel(thickness=df[\"Thickness [m]\"], vp=df[\"Vp [m/s]\"],\n",
    "                           vs=df[\"Vs [m/s]\"], density=df[\"Density [kg/m3]\"])\n",
    "fig, ax = plt.subplots(figsize=(3, 5), dpi=150)\n",
    "ax.plot(gm.vs2, gm.depth, color=\"red\", lw=2, label=\"Ground Model\", zorder=4)\n",
    "ylim = ax.get_ylim()\n",
    "xlim = ax.get_xlim()\n",
    "ax.plot(target.pseudo_vs(velocity_factor=1.1), target.pseudo_depth(depth_factor=2), marker=\"o\", ls=\"--\", markersize=3, label=\"Experimental Data\")\n",
    "ax.set_ylim(ylim)\n",
    "ax.set_xlim(xlim)\n",
    "ax.set_ylabel(\"Depth (m)\")\n",
    "ax.set_xlabel(\"Vs (m/s)\")\n",
    "\n",
    "ax.set_ylim(max((max(target.wavelength)/2, sum(gm.thickness)+15)), 0)\n",
    "ylim = ax.get_xlim()\n",
    "ax.set_yticks(np.arange(0, max(ylim)+10, 10))\n",
    "ax.set_yticks(np.arange(0, max(ylim)+2, 2), minor=True)\n",
    "ax.set_ylim(max(target.wavelength / 2), 0)\n",
    "\n",
    "ax.set_xlim(0, 600)\n",
    "xlim = ax.get_xlim()\n",
    "ax.set_xticks(np.arange(0, max(xlim)+200, 200))\n",
    "ax.set_xticks(np.arange(0, max(xlim)+50, 50), minor=True)\n",
    "\n",
    "ax.grid(which=\"both\", ls=\":\")\n",
    "ax.legend(loc=\"upper left\", bbox_to_anchor=(1,1))\n",
    "plt.show()"
   ]
  },
  {
   "cell_type": "markdown",
   "id": "3fde877a",
   "metadata": {},
   "source": [
    "## Compute and Plot Theoretical Dispersion"
   ]
  },
  {
   "cell_type": "code",
   "execution_count": null,
   "id": "d50661b4",
   "metadata": {},
   "outputs": [],
   "source": [
    "# Frequencies must be sorted starting with high frequencies\n",
    "frequencies = np.geomspace(max(frequency_limits), min(frequency_limits), 100)\n",
    "\n",
    "# Compute phase disperions\n",
    "velocity_model = np.empty((gm.nlay, 4), dtype=float)\n",
    "velocity_model[:, 0] = gm.tk\n",
    "velocity_model[:, 1] = gm.vp\n",
    "velocity_model[:, 2] = gm.vs\n",
    "velocity_model[:, 3] = gm.rh\n",
    "velocity_model_geo = velocity_model/1000\n",
    "disp = PhaseDispersion(*velocity_model_geo.T)\n",
    "period, velocity, *meta = disp(1/frequencies, mode=0, wave=\"rayleigh\")\n",
    "dc = swprepost.DispersionCurve(1/period, velocity*1000)\n",
    "\n",
    "# Compute misfit\n",
    "_, vel_at_tar_frq = dc.resample(target.frequency, inplace=False)\n",
    "misfit = np.sqrt(np.mean((vel_at_tar_frq - target.velocity)**2 / target.velstd**2))\n",
    "\n",
    "# Plot experimental and theoretical dispersion\n",
    "fig, ax = target.plot(figkwargs=dict(figsize=(4,3)))\n",
    "ax.margins(0.2)\n",
    "ax.plot(dc.frequency, dc.velocity, color=\"red\", label=f\"Rayleigh-0 [{misfit:.2f}]\")\n",
    "ax.set_xlabel(\"Frequency (Hz)\")\n",
    "ax.set_ylabel(\"Rayleigh Phase Velocity (m/s)\")\n",
    "ax.legend(loc=\"upper right\")\n",
    "ax.set_yticks(np.arange(0, max(ylim)+25, 25), minor=True)\n",
    "ax.grid(axis=\"both\", which=\"major\", color=\"black\", lw=0.2)\n",
    "ax.grid(axis=\"both\", which=\"minor\", color=\"black\", lw=0.1)\n",
    "ax.set_xlim(frequency_limits)\n",
    "ax.set_ylim(phase_velocity_limits)\n",
    "plt.show()"
   ]
  },
  {
   "cell_type": "markdown",
   "id": "6344b4ad",
   "metadata": {},
   "source": [
    "## Compare Final Vs with True Vs (If Available)"
   ]
  },
  {
   "cell_type": "code",
   "execution_count": null,
   "id": "b5f470e0",
   "metadata": {},
   "outputs": [],
   "source": [
    "has_true_model = [1, 4]\n",
    "if case not in has_true_model:\n",
    "    print(f\"Case {case} does not have a true solution.\")\n",
    "else:\n",
    "    best_gm = swprepost.GroundModel(*velocity_model.T)\n",
    "    df = pd.read_csv(f\"case_{case}_model.csv\").dropna()\n",
    "    true_gm = swprepost.GroundModel(thickness=df[\"Thickness [m]\"], vp=df[\"Vp [m/s]\"],\n",
    "                                    vs=df[\"Vs [m/s]\"], density=df[\"Density [kg/m3]\"])\n",
    "    fig, ax = plt.subplots(figsize=(2, 4), dpi=150)\n",
    "    ax.plot(true_gm.vs2, true_gm.depth, color=\"black\", lw=1, label=\"True Model\")\n",
    "    ax.plot(best_gm.vs2, best_gm.depth, color=\"red\", lw=1, label=f\"Forward Model [{misfit:.2f}]\")\n",
    "    ax.set_xlabel(\"Vs (m/s)\")\n",
    "    ax.set_ylabel(\"Depth (m)\")\n",
    "    xlim = ax.get_xlim()\n",
    "    ax.set_xlim(0, (max(xlim)//50+1)*50)\n",
    "    xlim = ax.get_xlim()\n",
    "    ax.set_xticks(np.arange(0, max(xlim)+50, 50), minor=True)\n",
    "    ax.set_ylim((max(sum(best_gm.thickness), sum(true_gm.thickness))//5 + 1)*5, 0)\n",
    "    ax.legend(loc=\"upper left\", bbox_to_anchor =(1, 1))\n",
    "    plt.show()"
   ]
  },
  {
   "cell_type": "code",
   "execution_count": null,
   "id": "69b0f494",
   "metadata": {},
   "outputs": [],
   "source": []
  }
 ],
 "metadata": {
  "IMAGE_NAME": "taccsciapps/ds-nb-img:base-0.1.0",
  "UUID": "a7a25460-da1f-11ec-b610-6630249efb83",
  "kernelspec": {
   "display_name": "Python 3 (ipykernel)",
   "language": "python",
   "name": "python3"
  },
  "language_info": {
   "codemirror_mode": {
    "name": "ipython",
    "version": 3
   },
   "file_extension": ".py",
   "mimetype": "text/x-python",
   "name": "python",
   "nbconvert_exporter": "python",
   "pygments_lexer": "ipython3",
   "version": "3.8.10"
  }
 },
 "nbformat": 4,
 "nbformat_minor": 5
}
