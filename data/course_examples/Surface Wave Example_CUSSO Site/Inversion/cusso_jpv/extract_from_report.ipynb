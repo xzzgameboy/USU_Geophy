{
 "cells": [
  {
   "cell_type": "markdown",
   "id": "ccdee277-4bd1-470a-a2fa-1733d844dc52",
   "metadata": {},
   "source": [
    "## License Information\n",
    "\n",
    "---\n",
    "\n",
    "This file is distributed as part of _swprepost_, a Python package for surface wave inversion pre- and post-processing.\n",
    "\n",
    "    Copyright (C) 2019-2022 Joseph P. Vantassel (jvantassel@utexas.edu)\n",
    "\n",
    "    This program is free software: you can redistribute it and/or modify\n",
    "    it under the terms of the GNU General Public License as published by\n",
    "    the Free Software Foundation, either version 3 of the License, or\n",
    "    (at your option) any later version.\n",
    "\n",
    "    This program is distributed in the hope that it will be useful,\n",
    "    but WITHOUT ANY WARRANTY; without even the implied warranty of\n",
    "    MERCHANTABILITY or FITNESS FOR A PARTICULAR PURPOSE.  See the\n",
    "    GNU General Public License for more details.\n",
    "\n",
    "    You should have received a copy of the GNU General Public License\n",
    "    along with this program.  If not, see <https: //www.gnu.org/licenses/>.\n"
   ]
  },
  {
   "cell_type": "code",
   "execution_count": 1,
   "id": "0dc9509a-b21a-4c90-9454-664601a7f5ff",
   "metadata": {},
   "outputs": [],
   "source": [
    "import pathlib\n",
    "\n",
    "import swprepost\n",
    "\n",
    "from extract_from_report import extract_from_report"
   ]
  },
  {
   "cell_type": "markdown",
   "id": "bfe63b16-3439-41a0-af90-c47a277629e6",
   "metadata": {},
   "source": [
    "## Data and Geopsy Binary Directories"
   ]
  },
  {
   "cell_type": "code",
   "execution_count": 2,
   "id": "70095152-fa86-4b71-9604-2b1aa97f06e1",
   "metadata": {},
   "outputs": [
    {
     "name": "stdout",
     "output_type": "stream",
     "text": [
      "reports_directory: True\n",
      "geopsy_bin_directory: True\n"
     ]
    }
   ],
   "source": [
    "reports_directory = pathlib.Path(\".\\\\2_reports\")\n",
    "geopsy_bin_directory = pathlib.Path(\"C:\\\\Users\\\\vanta\\\\Documents\\\\software_by_others\\\\Geopsy-3.4.2\\\\bin\")\n",
    "\n",
    "print(f\"reports_directory: {reports_directory.exists()}\")\n",
    "print(f\"geopsy_bin_directory: {geopsy_bin_directory.exists()}\")"
   ]
  },
  {
   "cell_type": "markdown",
   "id": "309b1ddd-d378-4d2e-b923-be50f1b7b78e",
   "metadata": {},
   "source": [
    "## Inversion Results Extraction Details"
   ]
  },
  {
   "cell_type": "code",
   "execution_count": 3,
   "id": "c872ba0a-c577-4abc-9573-bbfa30740c89",
   "metadata": {},
   "outputs": [],
   "source": [
    "# Number of ground models/dispersion curves/ellipticity curves to export\n",
    "number_of_models_to_export = 100\n",
    "\n",
    "# Number (positive integer) of Rayleigh and Love wave modes to export.\n",
    "# If no dispersion curves are desired set both the number of Rayleigh and\n",
    "# Love modes to 0. (1 is recommended)\n",
    "number_of_rayleigh_modes_to_export = 1\n",
    "number_of_love_modes_to_export = 0\n",
    "\n",
    "# Number (positive float) for minimum amd maximum frequency of exported\n",
    "# dispersion curve(s) in Hz. Selecting a value slightly less than the\n",
    "# minimum frequency and a value slighlty greater than the maximum frequency\n",
    "# of your experimental dispersion data is recommended.\n",
    "minimum_dispersion_frequency = 1.\n",
    "maximum_dispersion_frequency = 60.\n",
    "\n",
    "# Number (positive integer) of frequency points in the exported dispersion\n",
    "# curve(s). (30 is recommended)\n",
    "number_of_dispersion_frequency_points = 30\n",
    "\n",
    "# Number (positive integer) of Rayleigh modes to include in exported ellipticity.\n",
    "# If no ellipticity curves are desired set this value to 0. (1 is recommended)\n",
    "number_of_rayleigh_ellipticity_modes_to_export = 0\n",
    "\n",
    "# Number (positive float) for minimum amd maximum frequency of exported\n",
    "# Rayleigh wave ellipticity curve(s) in Hz. Selecting a value less than and\n",
    "# greater than the site's resonant frequency is recommended.\n",
    "minimum_ellipticity_frequency = 0.2\n",
    "maximum_ellipticity_frequency = 20.\n",
    "\n",
    "# Number (positive integer) of frequency points in exported Rayleigh wave\n",
    "# ellipticity curve(s). (64 is recommended)\n",
    "number_of_ellipticity_frequency_points = 64"
   ]
  },
  {
   "cell_type": "code",
   "execution_count": 4,
   "id": "be93d735-09bc-4d49-9a62-ffde0fa3918d",
   "metadata": {},
   "outputs": [],
   "source": [
    "extract_from_report(reports_directory=reports_directory,\n",
    "                    geopsy_bin_directory=geopsy_bin_directory,\n",
    "                    number_of_models_to_export=number_of_models_to_export,\n",
    "                    number_of_rayleigh_modes_to_export=number_of_rayleigh_modes_to_export,\n",
    "                    number_of_love_modes_to_export=number_of_love_modes_to_export,\n",
    "                    minimum_dispersion_frequency=minimum_dispersion_frequency,\n",
    "                    maximum_dispersion_frequency=maximum_dispersion_frequency,\n",
    "                    number_of_dispersion_frequency_points=number_of_dispersion_frequency_points,\n",
    "                    number_of_rayleigh_ellipticity_modes_to_export=number_of_rayleigh_ellipticity_modes_to_export,\n",
    "                    minimum_ellipticity_frequency=minimum_ellipticity_frequency,\n",
    "                    maximum_ellipticity_frequency=maximum_ellipticity_frequency,\n",
    "                    number_of_ellipticity_frequency_points=number_of_ellipticity_frequency_points)"
   ]
  },
  {
   "cell_type": "code",
   "execution_count": null,
   "id": "9e2386d2-65fd-4acd-af54-1b65beb1c466",
   "metadata": {},
   "outputs": [],
   "source": []
  }
 ],
 "metadata": {
  "kernelspec": {
   "display_name": "Python 3 (ipykernel)",
   "language": "python",
   "name": "python3"
  },
  "language_info": {
   "codemirror_mode": {
    "name": "ipython",
    "version": 3
   },
   "file_extension": ".py",
   "mimetype": "text/x-python",
   "name": "python",
   "nbconvert_exporter": "python",
   "pygments_lexer": "ipython3",
   "version": "3.8.10"
  }
 },
 "nbformat": 4,
 "nbformat_minor": 5
}
